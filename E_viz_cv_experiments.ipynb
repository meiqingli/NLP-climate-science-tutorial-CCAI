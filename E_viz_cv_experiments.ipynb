{
  "cells": [
    {
      "cell_type": "markdown",
      "metadata": {
        "pycharm": {
          "name": "#%% md\n"
        },
        "id": "-cGEVMg6weyE"
      },
      "source": [
        "## Vizualising CV results\n",
        "\n",
        "[![colab badge](https://colab.research.google.com/assets/colab-badge.svg)](https://colab.research.google.com/github/mcallaghan/NLP-climate-science-tutorial-CCAI/blob/main/E_viz_cv_experiments.ipynb)\n",
        "\n",
        "Now that we have run our CV experiments, it's time to have a look at the results. We'll do this with a simple boxplot showing the spread of each performance metric across our validation folds. Given that we have very few data points, it makes sense to make this clear by plotting the points as well."
      ]
    },
    {
      "cell_type": "code",
      "execution_count": 1,
      "metadata": {
        "pycharm": {
          "name": "#%%\n"
        },
        "id": "ozQc8ADRweyQ",
        "outputId": "06d80b4e-bd5a-48f6-9c67-219aeff9b27f",
        "colab": {
          "base_uri": "https://localhost:8080/",
          "height": 335
        }
      },
      "outputs": [
        {
          "output_type": "stream",
          "name": "stdout",
          "text": [
            "Mounted at /content/drive\n",
            "[0.97207838 0.98543751 1.03035344 0.99582561 0.98549191]\n",
            "[2.00602542 1.97957241 1.98755013 2.06107481 2.08442035]\n",
            "[2.9753168  2.93834736 2.92419156 3.09093588 2.97211748]\n"
          ]
        },
        {
          "output_type": "display_data",
          "data": {
            "text/plain": [
              "<Figure size 432x288 with 1 Axes>"
            ],
            "image/png": "[encoded data removed]"
          },
          "metadata": {
            "needs_background": "light"
          }
        }
      ],
      "source": [
        "import pandas as pd\n",
        "import matplotlib.pyplot as plt\n",
        "import numpy as np\n",
        "\n",
        "import os\n",
        "## If we are running in colab, mount google drive and change into the directory we cloned the repository into\n",
        "if os.path.exists(\"/content/\"):\n",
        "    from google.colab import drive\n",
        "    import os\n",
        "    drive.mount('/content/drive')\n",
        "    os.chdir(\"/content/drive/MyDrive/NLP-climate-science-tutorial-CCAI\") \n",
        "\n",
        "results = pd.read_json(\"cv_data/INCLUDE/outer_results_5_splits.json\")\n",
        "\n",
        "fig, ax = plt.subplots()\n",
        "\n",
        "for i, metric in enumerate(results.columns):\n",
        "    jitter = np.random.random(size=results.shape[0])*0.2 + i+0.9\n",
        "    print(jitter)\n",
        "    ax.scatter(jitter, results[metric], color=\"C0\")\n",
        "    \n",
        "ax.boxplot(results, showfliers=False)\n",
        "ax.set_xticklabels(results.columns)\n",
        "plt.show()\n"
      ]
    },
    {
      "cell_type": "code",
      "execution_count": 2,
      "metadata": {
        "id": "lFA9r8MuweyV",
        "outputId": "72d05d77-0e80-4864-fdb6-862b83dab44f",
        "colab": {
          "base_uri": "https://localhost:8080/",
          "height": 206
        }
      },
      "outputs": [
        {
          "output_type": "execute_result",
          "data": {
            "text/plain": [
              "   f1_score  precision_score  recall_score\n",
              "0  0.815972         0.804795      0.827465\n",
              "1  0.829175         0.818182      0.840467\n",
              "2  0.822642         0.789855      0.858268\n",
              "3  0.816000         0.809524      0.822581\n",
              "4  0.852273         0.849057      0.855513"
            ],
            "text/html": [
              "\n",
              "  <div id=\"df-d6471fbb-6a77-49f2-bb52-cf1fcb64c3cd\">\n",
              "    <div class=\"colab-df-container\">\n",
              "      <div>\n",
              "<style scoped>\n",
              "    .dataframe tbody tr th:only-of-type {\n",
              "        vertical-align: middle;\n",
              "    }\n",
              "\n",
              "    .dataframe tbody tr th {\n",
              "        vertical-align: top;\n",
              "    }\n",
              "\n",
              "    .dataframe thead th {\n",
              "        text-align: right;\n",
              "    }\n",
              "</style>\n",
              "<table border=\"1\" class=\"dataframe\">\n",
              "  <thead>\n",
              "    <tr style=\"text-align: right;\">\n",
              "      <th></th>\n",
              "      <th>f1_score</th>\n",
              "      <th>precision_score</th>\n",
              "      <th>recall_score</th>\n",
              "    </tr>\n",
              "  </thead>\n",
              "  <tbody>\n",
              "    <tr>\n",
              "      <th>0</th>\n",
              "      <td>0.815972</td>\n",
              "      <td>0.804795</td>\n",
              "      <td>0.827465</td>\n",
              "    </tr>\n",
              "    <tr>\n",
              "      <th>1</th>\n",
              "      <td>0.829175</td>\n",
              "      <td>0.818182</td>\n",
              "      <td>0.840467</td>\n",
              "    </tr>\n",
              "    <tr>\n",
              "      <th>2</th>\n",
              "      <td>0.822642</td>\n",
              "      <td>0.789855</td>\n",
              "      <td>0.858268</td>\n",
              "    </tr>\n",
              "    <tr>\n",
              "      <th>3</th>\n",
              "      <td>0.816000</td>\n",
              "      <td>0.809524</td>\n",
              "      <td>0.822581</td>\n",
              "    </tr>\n",
              "    <tr>\n",
              "      <th>4</th>\n",
              "      <td>0.852273</td>\n",
              "      <td>0.849057</td>\n",
              "      <td>0.855513</td>\n",
              "    </tr>\n",
              "  </tbody>\n",
              "</table>\n",
              "</div>\n",
              "      <button class=\"colab-df-convert\" onclick=\"convertToInteractive('df-d6471fbb-6a77-49f2-bb52-cf1fcb64c3cd')\"\n",
              "              title=\"Convert this dataframe to an interactive table.\"\n",
              "              style=\"display:none;\">\n",
              "        \n",
              "  <svg xmlns=\"http://www.w3.org/2000/svg\" height=\"24px\"viewBox=\"0 0 24 24\"\n",
              "       width=\"24px\">\n",
              "    <path d=\"M0 0h24v24H0V0z\" fill=\"none\"/>\n",
              "    <path d=\"M18.56 5.44l.94 2.06.94-2.06 2.06-.94-2.06-.94-.94-2.06-.94 2.06-2.06.94zm-11 1L8.5 8.5l.94-2.06 2.06-.94-2.06-.94L8.5 2.5l-.94 2.06-2.06.94zm10 10l.94 2.06.94-2.06 2.06-.94-2.06-.94-.94-2.06-.94 2.06-2.06.94z\"/><path d=\"M17.41 7.96l-1.37-1.37c-.4-.4-.92-.59-1.43-.59-.52 0-1.04.2-1.43.59L10.3 9.45l-7.72 7.72c-.78.78-.78 2.05 0 2.83L4 21.41c.39.39.9.59 1.41.59.51 0 1.02-.2 1.41-.59l7.78-7.78 2.81-2.81c.8-.78.8-2.07 0-2.86zM5.41 20L4 18.59l7.72-7.72 1.47 1.35L5.41 20z\"/>\n",
              "  </svg>\n",
              "      </button>\n",
              "      \n",
              "  <style>\n",
              "    .colab-df-container {\n",
              "      display:flex;\n",
              "      flex-wrap:wrap;\n",
              "      gap: 12px;\n",
              "    }\n",
              "\n",
              "    .colab-df-convert {\n",
              "      background-color: #E8F0FE;\n",
              "      border: none;\n",
              "      border-radius: 50%;\n",
              "      cursor: pointer;\n",
              "      display: none;\n",
              "      fill: #1967D2;\n",
              "      height: 32px;\n",
              "      padding: 0 0 0 0;\n",
              "      width: 32px;\n",
              "    }\n",
              "\n",
              "    .colab-df-convert:hover {\n",
              "      background-color: #E2EBFA;\n",
              "      box-shadow: 0px 1px 2px rgba(60, 64, 67, 0.3), 0px 1px 3px 1px rgba(60, 64, 67, 0.15);\n",
              "      fill: #174EA6;\n",
              "    }\n",
              "\n",
              "    [theme=dark] .colab-df-convert {\n",
              "      background-color: #3B4455;\n",
              "      fill: #D2E3FC;\n",
              "    }\n",
              "\n",
              "    [theme=dark] .colab-df-convert:hover {\n",
              "      background-color: #434B5C;\n",
              "      box-shadow: 0px 1px 3px 1px rgba(0, 0, 0, 0.15);\n",
              "      filter: drop-shadow(0px 1px 2px rgba(0, 0, 0, 0.3));\n",
              "      fill: #FFFFFF;\n",
              "    }\n",
              "  </style>\n",
              "\n",
              "      <script>\n",
              "        const buttonEl =\n",
              "          document.querySelector('#df-d6471fbb-6a77-49f2-bb52-cf1fcb64c3cd button.colab-df-convert');\n",
              "        buttonEl.style.display =\n",
              "          google.colab.kernel.accessAllowed ? 'block' : 'none';\n",
              "\n",
              "        async function convertToInteractive(key) {\n",
              "          const element = document.querySelector('#df-d6471fbb-6a77-49f2-bb52-cf1fcb64c3cd');\n",
              "          const dataTable =\n",
              "            await google.colab.kernel.invokeFunction('convertToInteractive',\n",
              "                                                     [key], {});\n",
              "          if (!dataTable) return;\n",
              "\n",
              "          const docLinkHtml = 'Like what you see? Visit the ' +\n",
              "            '<a target=\"_blank\" href=https://colab.research.google.com/notebooks/data_table.ipynb>data table notebook</a>'\n",
              "            + ' to learn more about interactive tables.';\n",
              "          element.innerHTML = '';\n",
              "          dataTable['output_type'] = 'display_data';\n",
              "          await google.colab.output.renderOutput(dataTable, element);\n",
              "          const docLink = document.createElement('div');\n",
              "          docLink.innerHTML = docLinkHtml;\n",
              "          element.appendChild(docLink);\n",
              "        }\n",
              "      </script>\n",
              "    </div>\n",
              "  </div>\n",
              "  "
            ]
          },
          "metadata": {},
          "execution_count": 2
        }
      ],
      "source": [
        "results"
      ]
    },
    {
      "cell_type": "markdown",
      "metadata": {
        "id": "F8MuCwwEweyW"
      },
      "source": [
        "### Multilabel results\n",
        "\n",
        "For the multilabel class, results are more complex - but we can compute the same metrics for each class, and then show different aggregations of these across classes. The macro average takes the unweighted mean of the metric for each label, the micro average calculates metrics globally by counting all true/false positives/negatives across classes."
      ]
    },
    {
      "cell_type": "code",
      "execution_count": 3,
      "metadata": {
        "id": "FuA16ghFweyX",
        "outputId": "a0de3838-85e0-434b-9079-ce47a2cb985b",
        "colab": {
          "base_uri": "https://localhost:8080/",
          "height": 839
        }
      },
      "outputs": [
        {
          "output_type": "execute_result",
          "data": {
            "text/plain": [
              "[Text(0, 0, 'Micro average'),\n",
              " Text(0, 0, 'Macro average'),\n",
              " Text(0, 0, 'Coastal and marine Ecosystems'),\n",
              " Text(0, 0, 'Human and managed systems'),\n",
              " Text(0, 0, 'Mountains, snow and ice'),\n",
              " Text(0, 0, 'Rivers, lakes, and soil moisture'),\n",
              " Text(0, 0, 'Terrestrial ES')]"
            ]
          },
          "metadata": {},
          "execution_count": 3
        },
        {
          "output_type": "display_data",
          "data": {
            "text/plain": [
              "<Figure size 504x720 with 3 Axes>"
            ],
            "image/png": "[encoded data removed]"
          },
          "metadata": {
            "needs_background": "light"
          }
        }
      ],
      "source": [
        "\n",
        "results = pd.read_json(\"cv_data/12/outer_results_5_splits.json\")\n",
        "impact_labels = [\n",
        "    \"Coastal and marine Ecosystems\",\n",
        "    \"Human and managed systems\",\n",
        "    \"Mountains, snow and ice\",\n",
        "    \"Rivers, lakes, and soil moisture\",\n",
        "    \"Terrestrial ES\"\n",
        "]\n",
        "impact_indices = [x for x in range(len(impact_labels))]\n",
        "\n",
        "fig, axs = plt.subplots(3, figsize=(7,10), sharex=True, sharey=True)\n",
        "\n",
        "metrics = [\"f1_score\", \"recall_score\", \"precision_score\"]\n",
        "for i, metric in enumerate(metrics):\n",
        "    ax = axs[i]\n",
        "    ax.set_title(metric)\n",
        "    metric_labels = [f\"{metric}_{x}\" for x in [\"micro\", \"macro\"] + impact_indices]\n",
        "    for j, col in enumerate(metric_labels):\n",
        "        jitter = np.random.random(size=results.shape[0])*0.2 + j+0.9\n",
        "        ax.scatter(jitter, results[col], color=\"C0\")    \n",
        "        \n",
        "    ax.boxplot([results[col] for col in metric_labels], showfliers=False)\n",
        "    ax.grid(axis=\"y\")\n",
        "    \n",
        "impact_labels = [\"Micro average\", \"Macro average\"] + impact_labels\n",
        "ax.set_xticks(range(1,len(impact_labels)+1))\n",
        "ax.set_xticklabels(impact_labels, rotation=45, ha=\"right\")"
      ]
    }
  ],
  "metadata": {
    "kernelspec": {
      "display_name": "Python3.9 (py39)",
      "language": "python",
      "name": "py39"
    },
    "language_info": {
      "codemirror_mode": {
        "name": "ipython",
        "version": 3
      },
      "file_extension": ".py",
      "mimetype": "text/x-python",
      "name": "python",
      "nbconvert_exporter": "python",
      "pygments_lexer": "ipython3",
      "version": "3.9.13"
    },
    "colab": {
      "name": "E_viz_cv_experiments.ipynb",
      "provenance": []
    }
  },
  "nbformat": 4,
  "nbformat_minor": 0
}